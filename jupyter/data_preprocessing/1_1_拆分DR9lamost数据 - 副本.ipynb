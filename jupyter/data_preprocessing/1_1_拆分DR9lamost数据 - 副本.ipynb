{
 "cells": [
  {
   "cell_type": "code",
   "execution_count": 1,
   "id": "17492601-abb9-46b6-8b52-1ec1b973c128",
   "metadata": {},
   "outputs": [],
   "source": [
    "import pandas as pd\n",
    "import numpy as np\n",
    "from tqdm import tqdm"
   ]
  },
  {
   "cell_type": "markdown",
   "id": "b81f0302-d0ac-45a6-a453-1725cdab8a3c",
   "metadata": {},
   "source": [
    "# 处理下载下来的lamost星表\n",
    "原始数据是一个联合列，由|进行分割。这里将数据拆分为多个列，并生成csv"
   ]
  },
  {
   "cell_type": "code",
   "execution_count": 11,
   "id": "82b6b433-bc22-49c4-ab7f-de0af5c5f662",
   "metadata": {},
   "outputs": [],
   "source": [
    "df_lamost = pd.read_csv('./data/dr8_47539.csv')\n",
    "# df_lamost = pd.read_csv('./data/dr9_24711.csv')"
   ]
  },
  {
   "cell_type": "code",
   "execution_count": 12,
   "id": "cc861b5f-a97e-48c9-937c-ea7cd1a25fdb",
   "metadata": {},
   "outputs": [
    {
     "data": {
      "text/plain": [
       "Index(['combined_obsid|combined_snrg|combined_ra|combined_dec'], dtype='object')"
      ]
     },
     "execution_count": 12,
     "metadata": {},
     "output_type": "execute_result"
    }
   ],
   "source": [
    "df_lamost.columns"
   ]
  },
  {
   "cell_type": "code",
   "execution_count": 13,
   "id": "1d1749db-fbe6-4c94-b60a-8cbf59bc4af7",
   "metadata": {},
   "outputs": [
    {
     "data": {
      "text/plain": [
       "0    495304177|61.11|55.4317520000|45.8599710000\n",
       "1    495304183|28.89|55.8229400000|45.8253540000\n",
       "2    495304185|28.35|55.7362980000|45.8712480000\n",
       "3    495304186|20.05|55.9765680000|46.2335040000\n",
       "4    495304187|17.79|55.4178520000|45.9284720000\n",
       "Name: combined_obsid|combined_snrg|combined_ra|combined_dec, dtype: object"
      ]
     },
     "execution_count": 13,
     "metadata": {},
     "output_type": "execute_result"
    }
   ],
   "source": [
    "df_lamost['combined_obsid|combined_snrg|combined_ra|combined_dec'][0:5]"
   ]
  },
  {
   "cell_type": "code",
   "execution_count": 14,
   "id": "0f55f04f-14e5-43f9-b6e0-65bbdda91a2a",
   "metadata": {},
   "outputs": [],
   "source": [
    "# 使用 str.split() 方法按竖线分割数据列，并将其分为三列\n",
    "new_columns = df_lamost['combined_obsid|combined_snrg|combined_ra|combined_dec'].str.split('|', expand=True)\n",
    "# 为新列命名\n",
    "new_columns.columns = ['lamost_obsid', 'lamost_snrg', 'lamost_ra', 'lamost_dec']\n",
    "\n",
    "# 将新列添加到数据框中\n",
    "df_lamost = pd.concat([df_lamost, new_columns], axis=1)\n",
    "\n",
    "# 删除原始的单一列数据\n",
    "df_lamost.drop('combined_obsid|combined_snrg|combined_ra|combined_dec', axis=1, inplace=True)\n"
   ]
  },
  {
   "cell_type": "code",
   "execution_count": 15,
   "id": "d392b81d-b596-4a4f-b4d0-db057e8fd420",
   "metadata": {},
   "outputs": [
    {
     "name": "stdout",
     "output_type": "stream",
     "text": [
      "<class 'pandas.core.frame.DataFrame'>\n",
      "RangeIndex: 8570782 entries, 0 to 8570781\n",
      "Data columns (total 4 columns):\n",
      " #   Column        Dtype \n",
      "---  ------        ----- \n",
      " 0   lamost_obsid  object\n",
      " 1   lamost_snrg   object\n",
      " 2   lamost_ra     object\n",
      " 3   lamost_dec    object\n",
      "dtypes: object(4)\n",
      "memory usage: 261.6+ MB\n"
     ]
    }
   ],
   "source": [
    "df_lamost.info()"
   ]
  },
  {
   "cell_type": "code",
   "execution_count": 16,
   "id": "a31aaf82-3de1-4429-955b-25cc5126f12f",
   "metadata": {},
   "outputs": [
    {
     "data": {
      "text/plain": [
       "0    55.4317520000\n",
       "1    55.8229400000\n",
       "2    55.7362980000\n",
       "3    55.9765680000\n",
       "4    55.4178520000\n",
       "Name: lamost_ra, dtype: object"
      ]
     },
     "execution_count": 16,
     "metadata": {},
     "output_type": "execute_result"
    }
   ],
   "source": [
    "df_lamost['lamost_ra'][0:5]"
   ]
  },
  {
   "cell_type": "code",
   "execution_count": 15,
   "id": "fa4e1323-c921-4460-bcb0-035e3b691da4",
   "metadata": {},
   "outputs": [],
   "source": [
    "# 保存数据\n",
    "# new_columns.to_csv('./data/lamost_dr10_data_catalog.csv', index=False)"
   ]
  },
  {
   "cell_type": "code",
   "execution_count": 17,
   "id": "5efc110d-b19f-465f-9c5a-cf45f560aef0",
   "metadata": {},
   "outputs": [],
   "source": [
    "# 保存数据\n",
    "df_lamost.to_csv('./data/lamost_dr8_data_catalog.csv', index=False)"
   ]
  },
  {
   "cell_type": "code",
   "execution_count": null,
   "id": "2e01b4b4-f508-46f2-9878-4ec021d846c2",
   "metadata": {},
   "outputs": [],
   "source": []
  }
 ],
 "metadata": {
  "kernelspec": {
   "display_name": "torch",
   "language": "python",
   "name": "torch"
  },
  "language_info": {
   "codemirror_mode": {
    "name": "ipython",
    "version": 3
   },
   "file_extension": ".py",
   "mimetype": "text/x-python",
   "name": "python",
   "nbconvert_exporter": "python",
   "pygments_lexer": "ipython3",
   "version": "3.8.17"
  }
 },
 "nbformat": 4,
 "nbformat_minor": 5
}
