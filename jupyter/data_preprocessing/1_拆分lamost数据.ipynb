{
 "cells": [
  {
   "cell_type": "code",
   "execution_count": 16,
   "id": "17492601-abb9-46b6-8b52-1ec1b973c128",
   "metadata": {},
   "outputs": [],
   "source": [
    "import pandas as pd\n",
    "import numpy as np\n",
    "from tqdm import tqdm"
   ]
  },
  {
   "cell_type": "markdown",
   "id": "b81f0302-d0ac-45a6-a453-1725cdab8a3c",
   "metadata": {},
   "source": [
    "# 处理下载下来的lamost星表\n",
    "原始数据是一个联合列，由|进行分割。这里将数据拆分为多个列，并生成csv"
   ]
  },
  {
   "cell_type": "code",
   "execution_count": 17,
   "id": "82b6b433-bc22-49c4-ab7f-de0af5c5f662",
   "metadata": {},
   "outputs": [],
   "source": [
    "df_lamost = pd.read_csv('./data/10246_筛选snrg_file.csv')\n",
    "# df_lamost = pd.read_csv('./data/dr10_LAMOST_9964.csv')"
   ]
  },
  {
   "cell_type": "code",
   "execution_count": 18,
   "id": "cc861b5f-a97e-48c9-937c-ea7cd1a25fdb",
   "metadata": {},
   "outputs": [
    {
     "data": {
      "text/plain": [
       "Index(['combined_obsid|combined_snrg|combined_class|combined_subclass|combined_z|combined_ra|combined_dec|combined_logg|combined_file'], dtype='object')"
      ]
     },
     "execution_count": 18,
     "metadata": {},
     "output_type": "execute_result"
    }
   ],
   "source": [
    "df_lamost.columns"
   ]
  },
  {
   "cell_type": "code",
   "execution_count": null,
   "id": "1d1749db-fbe6-4c94-b60a-8cbf59bc4af7",
   "metadata": {},
   "outputs": [],
   "source": [
    "df_lamost['combined_obsid|combined_ra|combined_dec'][0:5]"
   ]
  },
  {
   "cell_type": "code",
   "execution_count": 20,
   "id": "0f55f04f-14e5-43f9-b6e0-65bbdda91a2a",
   "metadata": {},
   "outputs": [],
   "source": [
    "# 使用 str.split() 方法按竖线分割数据列，并将其分为三列\n",
    "# new_columns = df_lamost['combined_obsid|combined_ra|combined_dec'].str.split('|', expand=True)\n",
    "new_columns = df_lamost['combined_obsid|combined_snrg|combined_class|combined_subclass|combined_z|combined_ra|combined_dec|combined_logg|combined_file'].str.split('|', expand=True)\n",
    "# 为新列命名\n",
    "new_columns.columns = ['lamost_obsid', 'lamost_snrg', 'lamost_class', 'lamost_subclass', 'lamost_z', 'lamost_ra', 'lamost_dec', 'lamost_logg', 'lamost_file']\n",
    "\n",
    "# 将新列添加到数据框中\n",
    "df_lamost = pd.concat([df_lamost, new_columns], axis=1)\n",
    "\n",
    "# 删除原始的单一列数据\n",
    "df_lamost.drop('combined_obsid|combined_snrg|combined_class|combined_subclass|combined_z|combined_ra|combined_dec|combined_logg|combined_file', axis=1, inplace=True)\n"
   ]
  },
  {
   "cell_type": "code",
   "execution_count": 21,
   "id": "d392b81d-b596-4a4f-b4d0-db057e8fd420",
   "metadata": {},
   "outputs": [
    {
     "name": "stdout",
     "output_type": "stream",
     "text": [
      "<class 'pandas.core.frame.DataFrame'>\n",
      "RangeIndex: 9526601 entries, 0 to 9526600\n",
      "Data columns (total 9 columns):\n",
      " #   Column           Dtype \n",
      "---  ------           ----- \n",
      " 0   lamost_obsid     object\n",
      " 1   lamost_snrg      object\n",
      " 2   lamost_class     object\n",
      " 3   lamost_subclass  object\n",
      " 4   lamost_z         object\n",
      " 5   lamost_ra        object\n",
      " 6   lamost_dec       object\n",
      " 7   lamost_logg      object\n",
      " 8   lamost_file      object\n",
      "dtypes: object(9)\n",
      "memory usage: 654.1+ MB\n"
     ]
    }
   ],
   "source": [
    "df_lamost.info()"
   ]
  },
  {
   "cell_type": "code",
   "execution_count": 12,
   "id": "a31aaf82-3de1-4429-955b-25cc5126f12f",
   "metadata": {},
   "outputs": [
    {
     "data": {
      "text/html": [
       "<div>\n",
       "<style scoped>\n",
       "    .dataframe tbody tr th:only-of-type {\n",
       "        vertical-align: middle;\n",
       "    }\n",
       "\n",
       "    .dataframe tbody tr th {\n",
       "        vertical-align: top;\n",
       "    }\n",
       "\n",
       "    .dataframe thead th {\n",
       "        text-align: right;\n",
       "    }\n",
       "</style>\n",
       "<table border=\"1\" class=\"dataframe\">\n",
       "  <thead>\n",
       "    <tr style=\"text-align: right;\">\n",
       "      <th></th>\n",
       "      <th>lamost_ra</th>\n",
       "      <th>lamost_ra</th>\n",
       "    </tr>\n",
       "  </thead>\n",
       "  <tbody>\n",
       "    <tr>\n",
       "      <th>0</th>\n",
       "      <td>332.2022740000</td>\n",
       "      <td>332.2022740000</td>\n",
       "    </tr>\n",
       "    <tr>\n",
       "      <th>1</th>\n",
       "      <td>332.5354560000</td>\n",
       "      <td>332.5354560000</td>\n",
       "    </tr>\n",
       "    <tr>\n",
       "      <th>2</th>\n",
       "      <td>332.3687450000</td>\n",
       "      <td>332.3687450000</td>\n",
       "    </tr>\n",
       "    <tr>\n",
       "      <th>3</th>\n",
       "      <td>332.2066650000</td>\n",
       "      <td>332.2066650000</td>\n",
       "    </tr>\n",
       "    <tr>\n",
       "      <th>4</th>\n",
       "      <td>332.3215230000</td>\n",
       "      <td>332.3215230000</td>\n",
       "    </tr>\n",
       "  </tbody>\n",
       "</table>\n",
       "</div>"
      ],
      "text/plain": [
       "        lamost_ra       lamost_ra\n",
       "0  332.2022740000  332.2022740000\n",
       "1  332.5354560000  332.5354560000\n",
       "2  332.3687450000  332.3687450000\n",
       "3  332.2066650000  332.2066650000\n",
       "4  332.3215230000  332.3215230000"
      ]
     },
     "execution_count": 12,
     "metadata": {},
     "output_type": "execute_result"
    }
   ],
   "source": [
    "df_lamost['lamost_ra'][0:5]"
   ]
  },
  {
   "cell_type": "code",
   "execution_count": 15,
   "id": "fa4e1323-c921-4460-bcb0-035e3b691da4",
   "metadata": {},
   "outputs": [],
   "source": [
    "# 保存数据\n",
    "# new_columns.to_csv('./data/lamost_dr10_data_catalog.csv', index=False)"
   ]
  },
  {
   "cell_type": "code",
   "execution_count": 22,
   "id": "5efc110d-b19f-465f-9c5a-cf45f560aef0",
   "metadata": {},
   "outputs": [],
   "source": [
    "# 保存数据\n",
    "df_lamost.to_csv('./data/lamost_dr10_data_catalog.csv', index=False)"
   ]
  },
  {
   "cell_type": "code",
   "execution_count": null,
   "id": "88443d01-f6f8-43e8-aacc-ce1e39767743",
   "metadata": {},
   "outputs": [],
   "source": []
  }
 ],
 "metadata": {
  "kernelspec": {
   "display_name": "torch",
   "language": "python",
   "name": "torch"
  },
  "language_info": {
   "codemirror_mode": {
    "name": "ipython",
    "version": 3
   },
   "file_extension": ".py",
   "mimetype": "text/x-python",
   "name": "python",
   "nbconvert_exporter": "python",
   "pygments_lexer": "ipython3",
   "version": "3.8.17"
  }
 },
 "nbformat": 4,
 "nbformat_minor": 5
}
